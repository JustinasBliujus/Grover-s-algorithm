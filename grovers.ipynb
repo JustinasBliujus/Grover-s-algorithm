{
 "cells": [
  {
   "cell_type": "markdown",
   "metadata": {},
   "source": [
    "## Imports"
   ]
  },
  {
   "cell_type": "code",
   "execution_count": 28,
   "metadata": {},
   "outputs": [],
   "source": [
    "from qiskit import QuantumCircuit\n",
    "from qiskit.visualization import plot_distribution\n",
    "from qiskit_ibm_runtime import QiskitRuntimeService\n",
    "from qiskit_ibm_runtime import SamplerV2 as Sampler\n",
    "from qiskit.transpiler.preset_passmanagers import generate_preset_pass_manager"
   ]
  },
  {
   "cell_type": "markdown",
   "metadata": {},
   "source": [
    "## Connect to ibm"
   ]
  },
  {
   "cell_type": "code",
   "execution_count": null,
   "metadata": {},
   "outputs": [],
   "source": [
    "service = QiskitRuntimeService(token='THE TOKEN CODE',channel=\"ibm_quantum\")\n",
    "backend = service.least_busy(operational=True, simulator=False)"
   ]
  },
  {
   "cell_type": "markdown",
   "metadata": {},
   "source": [
    "### The algorithm will be for 2 qubits.\n",
    "### Choosing state 11 by applying cz gate to it to mark it\n",
    "### X gates not needed here since cz will only affect 11 state"
   ]
  },
  {
   "cell_type": "code",
   "execution_count": null,
   "metadata": {},
   "outputs": [
    {
     "data": {
      "text/html": [
       "<pre style=\"word-wrap: normal;white-space: pre;background: #fff0;line-height: 1.1;font-family: &quot;Courier New&quot;,Courier,monospace\">        \n",
       "q_0: ─■─\n",
       "      │ \n",
       "q_1: ─■─\n",
       "        </pre>"
      ],
      "text/plain": [
       "        \n",
       "q_0: ─■─\n",
       "      │ \n",
       "q_1: ─■─\n",
       "        "
      ]
     },
     "execution_count": 29,
     "metadata": {},
     "output_type": "execute_result"
    }
   ],
   "source": [
    "# Create a quantum circuit with 2 qubits. It will be the oracle\n",
    "oracle = QuantumCircuit(2, name='oracle')\n",
    "\n",
    "# Apply a controlled-Z gate between qubit 0 and qubit 1\n",
    "oracle.cz(0, 1)\n",
    "\n",
    "# Draw the circuit diagram\n",
    "oracle.draw()"
   ]
  },
  {
   "cell_type": "markdown",
   "metadata": {},
   "source": [
    "### Making circuit of 2 qubits\n",
    "### Putting qubits into superposition with H and appending oracle to the circuit"
   ]
  },
  {
   "cell_type": "code",
   "execution_count": null,
   "metadata": {},
   "outputs": [
    {
     "data": {
      "text/html": [
       "<pre style=\"word-wrap: normal;white-space: pre;background: #fff0;line-height: 1.1;font-family: &quot;Courier New&quot;,Courier,monospace\">     ┌───┐┌─────────┐\n",
       "q_0: ┤ H ├┤0        ├\n",
       "     ├───┤│  oracle │\n",
       "q_1: ┤ H ├┤1        ├\n",
       "     └───┘└─────────┘\n",
       "c: 2/════════════════\n",
       "                     </pre>"
      ],
      "text/plain": [
       "     ┌───┐┌─────────┐\n",
       "q_0: ┤ H ├┤0        ├\n",
       "     ├───┤│  oracle │\n",
       "q_1: ┤ H ├┤1        ├\n",
       "     └───┘└─────────┘\n",
       "c: 2/════════════════\n",
       "                     "
      ]
     },
     "execution_count": 30,
     "metadata": {},
     "output_type": "execute_result"
    }
   ],
   "source": [
    "# Create a quantum circuit with 2 qubits and 2 classical bits\n",
    "grover_circuit = QuantumCircuit(2, 2)\n",
    "\n",
    "# Apply Hadamard gates to both qubits to create a superposition state\n",
    "grover_circuit.h([0, 1])\n",
    "\n",
    "# Append the previously defined oracle to the circuit\n",
    "grover_circuit.append(oracle, [0, 1])\n",
    "\n",
    "# Draw the circuit diagram\n",
    "grover_circuit.draw()"
   ]
  },
  {
   "cell_type": "markdown",
   "metadata": {},
   "source": [
    "### Creating a reflection about the mean of the amplitudes \n",
    "### By putting qubits into superposition with H, doing a phase flip with Z and reverting back to computational basis with H"
   ]
  },
  {
   "cell_type": "code",
   "execution_count": null,
   "metadata": {},
   "outputs": [
    {
     "data": {
      "text/html": [
       "<pre style=\"word-wrap: normal;white-space: pre;background: #fff0;line-height: 1.1;font-family: &quot;Courier New&quot;,Courier,monospace\">     ┌───┐┌───┐   ┌───┐\n",
       "q_0: ┤ H ├┤ Z ├─■─┤ H ├\n",
       "     ├───┤├───┤ │ ├───┤\n",
       "q_1: ┤ H ├┤ Z ├─■─┤ H ├\n",
       "     └───┘└───┘   └───┘</pre>"
      ],
      "text/plain": [
       "     ┌───┐┌───┐   ┌───┐\n",
       "q_0: ┤ H ├┤ Z ├─■─┤ H ├\n",
       "     ├───┤├───┤ │ ├───┤\n",
       "q_1: ┤ H ├┤ Z ├─■─┤ H ├\n",
       "     └───┘└───┘   └───┘"
      ]
     },
     "execution_count": 31,
     "metadata": {},
     "output_type": "execute_result"
    }
   ],
   "source": [
    "# Create a quantum circuit with 2 qubits \n",
    "reflection = QuantumCircuit(2, name='reflection')\n",
    "\n",
    "# Apply Hadamard gates to both qubits\n",
    "reflection.h([0, 1])\n",
    "\n",
    "# Apply Pauli-Z gates to both qubits (phase flip)\n",
    "reflection.z([0, 1])\n",
    "\n",
    "# Apply a controlled-Z (CZ) gate between qubit 0 and qubit 1\n",
    "reflection.cz(0, 1)\n",
    "\n",
    "# Apply Hadamard gates again to complete the reflection operation\n",
    "reflection.h([0, 1])\n",
    "\n",
    "# Convert the circuit into a gate for use in larger circuit\n",
    "reflection_gate = reflection.to_gate()\n",
    "\n",
    "# Draw the circuit diagram\n",
    "reflection.draw()"
   ]
  },
  {
   "cell_type": "markdown",
   "metadata": {},
   "source": [
    "### This is the full circuit"
   ]
  },
  {
   "cell_type": "code",
   "execution_count": null,
   "metadata": {},
   "outputs": [
    {
     "data": {
      "text/html": [
       "<pre style=\"word-wrap: normal;white-space: pre;background: #fff0;line-height: 1.1;font-family: &quot;Courier New&quot;,Courier,monospace\">     ┌───┐┌─────────┐┌─────────────┐┌─┐   \n",
       "q_0: ┤ H ├┤0        ├┤0            ├┤M├───\n",
       "     ├───┤│  oracle ││  reflection │└╥┘┌─┐\n",
       "q_1: ┤ H ├┤1        ├┤1            ├─╫─┤M├\n",
       "     └───┘└─────────┘└─────────────┘ ║ └╥┘\n",
       "c: 2/════════════════════════════════╩══╩═\n",
       "                                     0  1 </pre>"
      ],
      "text/plain": [
       "     ┌───┐┌─────────┐┌─────────────┐┌─┐   \n",
       "q_0: ┤ H ├┤0        ├┤0            ├┤M├───\n",
       "     ├───┤│  oracle ││  reflection │└╥┘┌─┐\n",
       "q_1: ┤ H ├┤1        ├┤1            ├─╫─┤M├\n",
       "     └───┘└─────────┘└─────────────┘ ║ └╥┘\n",
       "c: 2/════════════════════════════════╩══╩═\n",
       "                                     0  1 "
      ]
     },
     "execution_count": 32,
     "metadata": {},
     "output_type": "execute_result"
    }
   ],
   "source": [
    "# Create a quantum circuit with 2 qubits and 2 classical bits for measurement\n",
    "grover_circuit = QuantumCircuit(2, 2)\n",
    "\n",
    "# Apply Hadamard gates to both qubits to create a superposition state\n",
    "grover_circuit.h([0, 1])\n",
    "\n",
    "# Append the previously defined oracle to the circuit\n",
    "grover_circuit.append(oracle, [0, 1])\n",
    "\n",
    "# Append the reflection (Grover diffusion operator) to the circuit\n",
    "grover_circuit.append(reflection, [0, 1])\n",
    "\n",
    "# Measure both qubits and store the results in the classical bits\n",
    "grover_circuit.measure([0, 1], [0, 1])\n",
    "\n",
    "# Draw the circuit diagram\n",
    "grover_circuit.draw()"
   ]
  },
  {
   "cell_type": "markdown",
   "metadata": {},
   "source": [
    "### Transpiling to optimize circuit for quantum machine"
   ]
  },
  {
   "cell_type": "code",
   "execution_count": null,
   "metadata": {},
   "outputs": [
    {
     "data": {
      "image/png": "[encoded data removed]",
      "text/plain": [
       "<Figure size 1194.32x284.278 with 1 Axes>"
      ]
     },
     "execution_count": 33,
     "metadata": {},
     "output_type": "execute_result"
    }
   ],
   "source": [
    "# Get the target device's backend \n",
    "target = backend.target\n",
    "\n",
    "# Generate a pass manager with the specified optimization level \n",
    "pm = generate_preset_pass_manager(target=target, optimization_level=3)\n",
    "\n",
    "# Apply the pass manager to optimize the Grover circuit\n",
    "circuit_isa = pm.run(grover_circuit)\n",
    "\n",
    "# Draw the optimized circuit using the matplotlib style, showing the idle wires and using 'iqp' style for visuals\n",
    "circuit_isa.draw(output=\"mpl\", idle_wires=False, style=\"iqp\")"
   ]
  },
  {
   "cell_type": "markdown",
   "metadata": {},
   "source": [
    "### Running the algorithm and measuring results\n",
    "### after running once we get 11 state most of the time\n",
    "### after running 100 times we get 11 state around 95% of the time"
   ]
  },
  {
   "cell_type": "code",
   "execution_count": null,
   "metadata": {},
   "outputs": [
    {
     "name": "stdout",
     "output_type": "stream",
     "text": [
      "{'11': 95, '01': 3, '10': 2}\n"
     ]
    },
    {
     "data": {
      "image/png": "[encoded data removed]",
      "text/plain": [
       "<Figure size 700x500 with 1 Axes>"
      ]
     },
     "execution_count": 38,
     "metadata": {},
     "output_type": "execute_result"
    }
   ],
   "source": [
    "# Create a sampler using the backend \n",
    "sampler = Sampler(mode=backend)\n",
    "\n",
    "# Set the default number of repetitions for the experiment\n",
    "sampler.options.default_shots = 100\n",
    "\n",
    "# Run the optimized Grover circuit and retrieve the result\n",
    "result = sampler.run([circuit_isa]).result()\n",
    "\n",
    "# Extract the counts (measurement results) from the result object\n",
    "dist = result[0].data.c.get_counts()\n",
    "\n",
    "# Print the distribution of results\n",
    "print(dist)\n",
    "\n",
    "# Plot the distribution of the measurement results\n",
    "plot_distribution(dist)"
   ]
  }
 ],
 "metadata": {
  "kernelspec": {
   "display_name": "Python 3",
   "language": "python",
   "name": "python3"
  },
  "language_info": {
   "codemirror_mode": {
    "name": "ipython",
    "version": 3
   },
   "file_extension": ".py",
   "mimetype": "text/x-python",
   "name": "python",
   "nbconvert_exporter": "python",
   "pygments_lexer": "ipython3",
   "version": "3.11.8"
  }
 },
 "nbformat": 4,
 "nbformat_minor": 2
}
